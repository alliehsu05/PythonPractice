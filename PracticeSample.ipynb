{
 "cells": [
  {
   "cell_type": "markdown",
   "metadata": {},
   "source": [
    "# From 0 to 100, list odd number"
   ]
  },
  {
   "cell_type": "code",
   "execution_count": 1,
   "metadata": {
    "scrolled": true
   },
   "outputs": [
    {
     "name": "stdout",
     "output_type": "stream",
     "text": [
      "[1, 3, 5, 7, 9, 11, 13, 15, 17, 19, 21, 23, 25, 27, 29, 31, 33, 35, 37, 39, 41, 43, 45, 47, 49, 51, 53, 55, 57, 59, 61, 63, 65, 67, 69, 71, 73, 75, 77, 79, 81, 83, 85, 87, 89, 91, 93, 95, 97, 99]\n"
     ]
    }
   ],
   "source": [
    "#range(start, stop)\n",
    "x = [a for a in range(0,101) if a%2!= 0]\n",
    "print(x)"
   ]
  },
  {
   "cell_type": "markdown",
   "metadata": {},
   "source": [
    "# Swap two variable values "
   ]
  },
  {
   "cell_type": "code",
   "execution_count": 2,
   "metadata": {},
   "outputs": [
    {
     "name": "stdout",
     "output_type": "stream",
     "text": [
      "4 3\n"
     ]
    }
   ],
   "source": [
    "a = 3\n",
    "b = 4\n",
    "a,b = b, a\n",
    "print(a,b)"
   ]
  },
  {
   "cell_type": "markdown",
   "metadata": {},
   "source": [
    "# Remove duplicate numbers in the list"
   ]
  },
  {
   "cell_type": "code",
   "execution_count": 27,
   "metadata": {},
   "outputs": [
    {
     "name": "stdout",
     "output_type": "stream",
     "text": [
      "{1, 2, 3, 4, 5, 6, 7}\n",
      "[1, 2, 3, 4, 5, 6, 7]\n"
     ]
    }
   ],
   "source": [
    "#set() will turn list[] into set{}, list() will turn set{} into list[]\n",
    "lis = [1, 2, 3, 4, 4, 6, 7, 3, 4, 5, 2, 7]\n",
    "lis = set(lis)\n",
    "print(lis)\n",
    "#if you want the result is a list\n",
    "result1 = [x for x in lis]\n",
    "print(result1)"
   ]
  },
  {
   "cell_type": "markdown",
   "metadata": {},
   "source": [
    "# List all even numbers that at in the even index in the list"
   ]
  },
  {
   "cell_type": "code",
   "execution_count": 4,
   "metadata": {},
   "outputs": [
    {
     "name": "stdout",
     "output_type": "stream",
     "text": [
      "[1, 5, 10, 18, 78]\n"
     ]
    },
    {
     "data": {
      "text/plain": [
       "[10, 18, 78]"
      ]
     },
     "execution_count": 4,
     "metadata": {},
     "output_type": "execute_result"
    }
   ],
   "source": [
    "#even number: 0,2,4,6, ...\n",
    "#even index: index 0,2,4,6, ...\n",
    "list = [ 1 , 3 , 5 , 8 , 10 , 13 , 18 , 36 , 78 ]\n",
    "print(list[::2]) #every 2nd element that start from index 0\n",
    "[x for x in list[::2] if x%2 ==0]"
   ]
  },
  {
   "cell_type": "markdown",
   "metadata": {},
   "source": [
    "# Get the second decimal place"
   ]
  },
  {
   "cell_type": "code",
   "execution_count": 5,
   "metadata": {},
   "outputs": [
    {
     "name": "stdout",
     "output_type": "stream",
     "text": [
      "1.33\n"
     ]
    }
   ],
   "source": [
    "num = \"%.02f\" %1.3335\n",
    "print(num)"
   ]
  },
  {
   "cell_type": "markdown",
   "metadata": {},
   "source": [
    "# Different between sort and sorted"
   ]
  },
  {
   "cell_type": "code",
   "execution_count": 6,
   "metadata": {},
   "outputs": [
    {
     "name": "stdout",
     "output_type": "stream",
     "text": [
      "Sort True: [9, 5, 3, 0, -1, -10]\n",
      "Sort False: [-10, -1, 0, 3, 5, 9]\n",
      "Original [0, -1, 3, -10, 5, 9] Sorted [-10, -1, 0, 3, 5, 9]\n"
     ]
    }
   ],
   "source": [
    "#sort will do on the original list\n",
    "#sorted need another variable store the value\n",
    "list = [0,-1,3,-10,5,9]\n",
    "list.sort(reverse=True)\n",
    "print(\"Sort True:\",list)\n",
    "list.sort(reverse=False)\n",
    "print(\"Sort False:\",list)\n",
    "list = [0,-1,3,-10,5,9]\n",
    "res = sorted(list,reverse=False)\n",
    "print(\"Original\",list,\"Sorted\",res)"
   ]
  },
  {
   "cell_type": "markdown",
   "metadata": {},
   "source": [
    "# Create a list with elements"
   ]
  },
  {
   "cell_type": "code",
   "execution_count": 7,
   "metadata": {},
   "outputs": [
    {
     "name": "stdout",
     "output_type": "stream",
     "text": [
      "['', '', '', '', '']\n",
      "[0, 0, 0, 0, 0]\n"
     ]
    }
   ],
   "source": [
    "#create a list with empty value\n",
    "list1 = [\"\"]*5\n",
    "print(list1)\n",
    "#create a list with value 0\n",
    "list2 = [0]*5\n",
    "print(list2)"
   ]
  },
  {
   "cell_type": "markdown",
   "metadata": {},
   "source": [
    "# Create list element inside a list, and add values in the list"
   ]
  },
  {
   "cell_type": "code",
   "execution_count": 8,
   "metadata": {},
   "outputs": [
    {
     "name": "stdout",
     "output_type": "stream",
     "text": [
      "[[], [], [], [], []]\n",
      "[['10'], ['10'], ['10'], ['10'], ['10']]\n",
      "[['10'], ['10'], ['10'], ['10'], ['10'], '20']\n"
     ]
    }
   ],
   "source": [
    "list = [ [ ] ] * 5\n",
    "print(list)\n",
    "#add new value in the list item in the list\n",
    "list[0].append('10')\n",
    "print(list)\n",
    "#add new value behind in the list\n",
    "list.append('20')\n",
    "print(list)"
   ]
  },
  {
   "cell_type": "markdown",
   "metadata": {},
   "source": [
    "# Combine two number list and sort it"
   ]
  },
  {
   "cell_type": "code",
   "execution_count": 9,
   "metadata": {},
   "outputs": [
    {
     "name": "stdout",
     "output_type": "stream",
     "text": [
      "listadd: [1, 2, 2, 5, 6, 7, 8, 9]\n",
      "list1: [1, 2, 2, 5, 6, 7, 8, 9]\n"
     ]
    }
   ],
   "source": [
    "list1=[1,5,7,9]\n",
    "list2=[2,2,6,8]\n",
    "#two ways to combine them as [1,5,7,9,2,2,6,8]\n",
    "#1 directly add them\n",
    "listadd = list1+list2\n",
    "listadd.sort(reverse=False)\n",
    "print(\"listadd:\",listadd)\n",
    "#2 use extend function\n",
    "list1.extend(list2) \n",
    "list1.sort(reverse=False)\n",
    "print(\"list1:\",list1)\n",
    "#wrong way, it will become [1,5,7,9,[2,2,6,8]]\n",
    "list1.append(list2)"
   ]
  },
  {
   "cell_type": "markdown",
   "metadata": {},
   "source": [
    "# Expand list"
   ]
  },
  {
   "cell_type": "code",
   "execution_count": 10,
   "metadata": {},
   "outputs": [
    {
     "name": "stdout",
     "output_type": "stream",
     "text": [
      "[1, 2, 3, 4, 5, 6]\n"
     ]
    }
   ],
   "source": [
    "numlist = [[1,2],[3,4],[5,6]]\n",
    "expandli = [j for i in numlist for j in i]\n",
    "print(expandli)"
   ]
  },
  {
   "cell_type": "markdown",
   "metadata": {},
   "source": [
    "# Dictionary del and pop function"
   ]
  },
  {
   "cell_type": "code",
   "execution_count": 11,
   "metadata": {},
   "outputs": [
    {
     "name": "stdout",
     "output_type": "stream",
     "text": [
      "del {'age': 25}\n",
      "pop {'age': 25}\n",
      "Mark\n",
      "{'age': 25, 'name': 'Joey'}\n"
     ]
    }
   ],
   "source": [
    "# Use del if you want to delete an item from a dictionary\n",
    "dic = {\"name\":\"Mark\",\"age\":25}\n",
    "del dic[\"name\"]\n",
    "print(\"del\", dic)\n",
    "# Use d.pop if you want to capture the removed item\n",
    "dic = {\"name\":\"Mark\",\"age\":25}\n",
    "catched = dic.pop(\"name\")\n",
    "print(\"pop\", dic)\n",
    "print(catched)\n",
    "\n",
    "# Use update if you want to merge dictionary\n",
    "dic2 = {\"name\":\"Joey\"}\n",
    "dic.update(dic2)\n",
    "print(dic)"
   ]
  },
  {
   "cell_type": "markdown",
   "metadata": {},
   "source": [
    "# List of dictionary values that sorted by age"
   ]
  },
  {
   "cell_type": "code",
   "execution_count": 12,
   "metadata": {},
   "outputs": [
    {
     "name": "stdout",
     "output_type": "stream",
     "text": [
      "[{'name': 'Bob', 'age': 7}, {'name': 'Charlie', 'age': 20}, {'name': 'Amber', 'age': 55}]\n"
     ]
    }
   ],
   "source": [
    "profile = [{\"name\":\"Amber\", \"age\":55},{\"name\":\"Bob\", \"age\":7},{\"name\":\"Charlie\", \"age\":20}]\n",
    "result = sorted(profile,key=lambda x:x['age'],reverse=False)\n",
    "print(result)"
   ]
  },
  {
   "cell_type": "markdown",
   "metadata": {},
   "source": [
    "# Three ways generate random number between 0–100"
   ]
  },
  {
   "cell_type": "code",
   "execution_count": 13,
   "metadata": {},
   "outputs": [
    {
     "name": "stdout",
     "output_type": "stream",
     "text": [
      "58 28.093276789821797 41\n",
      "[ 0.23004101  0.04081344  0.60129318  0.23036664 -0.56112338]\n"
     ]
    }
   ],
   "source": [
    "import random\n",
    "import numpy as np\n",
    "res1 = random.randint(1,100)\n",
    "res2 = random.random() *100\n",
    "res3 = random.choice(range(0,101))\n",
    "print(res1,res2,res3)\n",
    "#Create five random numbers\n",
    "ran5 = np.random.randn(5)\n",
    "print(ran5)"
   ]
  },
  {
   "cell_type": "markdown",
   "metadata": {},
   "source": [
    "# Combine two string and capitalize the first letter in each word"
   ]
  },
  {
   "cell_type": "code",
   "execution_count": 14,
   "metadata": {},
   "outputs": [
    {
     "name": "stdout",
     "output_type": "stream",
     "text": [
      "Good Morning.Have A Good Day!\n"
     ]
    }
   ],
   "source": [
    "a ='good morning.'\n",
    "b ='have a good day!'\n",
    "print((a+b).title())"
   ]
  },
  {
   "cell_type": "markdown",
   "metadata": {},
   "source": [
    "# Three ways to display the specified string - \" ab & cd\""
   ]
  },
  {
   "cell_type": "code",
   "execution_count": 16,
   "metadata": {},
   "outputs": [
    {
     "name": "stdout",
     "output_type": "stream",
     "text": [
      "ab & cd\n",
      "ab & cd\n",
      "ab & cd\n"
     ]
    }
   ],
   "source": [
    "x = \"ab\"\n",
    "y = \"cd\"\n",
    "print(x,\"&\",y)\n",
    "print('%s & %s' %(x,y))\n",
    "print('{} & {}'.format(x,y))"
   ]
  },
  {
   "cell_type": "markdown",
   "metadata": {},
   "source": [
    "# Remove the duplicate letters and output a sorted string"
   ]
  },
  {
   "cell_type": "markdown",
   "metadata": {},
   "source": [
    "Input: ajldjlajfdljfddd, Output: adfjl"
   ]
  },
  {
   "cell_type": "code",
   "execution_count": 29,
   "metadata": {
    "scrolled": true
   },
   "outputs": [
    {
     "name": "stdout",
     "output_type": "stream",
     "text": [
      "adfjl\n"
     ]
    }
   ],
   "source": [
    "str = \"ajldjlajfdljfddd\"\n",
    "s = set(str) \n",
    "#s is {} can't be sorted, need to be []\n",
    "s = [x for x in s]\n",
    "#sort function for list\n",
    "s.sort(reverse=False)\n",
    "#join function that make list items combine into a string\n",
    "result = \"\".join(s)\n",
    "print(result)"
   ]
  },
  {
   "cell_type": "markdown",
   "metadata": {},
   "source": [
    "# String and Space"
   ]
  },
  {
   "cell_type": "code",
   "execution_count": 31,
   "metadata": {},
   "outputs": [
    {
     "name": "stdout",
     "output_type": "stream",
     "text": [
      "st:      hello   world ha  ha\n",
      "res: hello   world ha  ha\n",
      "res1: helloworldhaha\n",
      "res2: helloworldhaha\n"
     ]
    }
   ],
   "source": [
    "#Remove front and rear spaces\n",
    "st = \"     hello   world ha  ha\"\n",
    "res = st.strip()\n",
    "print(\"st:\",st)\n",
    "print(\"res:\",res)\n",
    "#Two ways remove space between words\n",
    "#1\n",
    "res1 = st.replace(\" \",\"\")\n",
    "#2\n",
    "res2 = st.split(\" \") #res2 is a list\n",
    "res2 = \"\".join(res2) #change into string\n",
    "\n",
    "print(\"res1:\",res1)\n",
    "print(\"res2:\",res2)"
   ]
  }
 ],
 "metadata": {
  "kernelspec": {
   "display_name": "Python 3",
   "language": "python",
   "name": "python3"
  },
  "language_info": {
   "codemirror_mode": {
    "name": "ipython",
    "version": 3
   },
   "file_extension": ".py",
   "mimetype": "text/x-python",
   "name": "python",
   "nbconvert_exporter": "python",
   "pygments_lexer": "ipython3",
   "version": "3.6.5"
  }
 },
 "nbformat": 4,
 "nbformat_minor": 2
}
